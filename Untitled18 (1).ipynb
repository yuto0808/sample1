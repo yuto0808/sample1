{
  "nbformat": 4,
  "nbformat_minor": 0,
  "metadata": {
    "colab": {
      "provenance": [],
      "toc_visible": true
    },
    "kernelspec": {
      "name": "python3",
      "display_name": "Python 3"
    },
    "language_info": {
      "name": "python"
    }
  },
  "cells": [
    {
      "cell_type": "code",
      "source": [
        "import random\n",
        "\n",
        "bingo_numbers = list(range(1, 76))\n",
        "random.shuffle(bingo_numbers)\n",
        "\n",
        "used_numbers = []\n",
        "\n",
        "print(\"ビンゴゲームを開始します。\")\n",
        "\n",
        "for i in range(75):\n",
        "    input(\"Enterを押して次の番号を表示します: \")\n",
        "    number = bingo_numbers[i]\n",
        "    used_numbers.append(number)\n",
        "\n",
        "    print(f\"提示された番号: {number}\")\n",
        "\n",
        "print(\"全ての番号が提示されました。\")\n",
        "\n",
        "print(\"記録された番号:\")\n",
        "for number in used_numbers:\n",
        "    print(number)"
      ],
      "metadata": {
        "colab": {
          "base_uri": "https://localhost:8080/"
        },
        "id": "WBrBT0ghXODW",
        "outputId": "469a9fde-a7cc-4bcc-aaf5-bbd66dfd397a"
      },
      "execution_count": null,
      "outputs": [
        {
          "output_type": "stream",
          "name": "stdout",
          "text": [
            "ビンゴゲームを開始します。\n",
            "Enterを押して次の番号を表示します: \n",
            "提示された番号: 73\n",
            "Enterを押して次の番号を表示します: \n",
            "提示された番号: 35\n"
          ]
        }
      ]
    }
  ]
}